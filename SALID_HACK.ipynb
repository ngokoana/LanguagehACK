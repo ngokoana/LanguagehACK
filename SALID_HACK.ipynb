{
  "cells": [
    {
      "cell_type": "markdown",
      "metadata": {
        "id": "uV8H2DuomrrL"
      },
      "source": [
        "# South African Language Identification Hackathon\n",
        "\n",
        "© Explore Data Science Academy \n",
        "\n",
        "---\n",
        "### Honour Code\n",
        "\n",
        "I **Ngokoana Mokakabye** , confirm - by submitting this document - that the solutions in this notebook are a result of my own work and that I abide by the [EDSA honour code](https://drive.google.com/file/d/1QDCjGZJ8-FmJE3bZdIQNwnJyQKPhHZBn/view?usp=sharing).\n",
        "\n",
        "Non-compliance with the honour code constitutes a material breach of contract.\n",
        "\n"
      ]
    },
    {
      "cell_type": "markdown",
      "metadata": {},
      "source": [
        "## 1. Introduction"
      ]
    },
    {
      "cell_type": "markdown",
      "metadata": {
        "id": "afm1Mh3i79D6"
      },
      "source": [
        "## 2. Importing Libraries"
      ]
    },
    {
      "cell_type": "code",
      "execution_count": 1,
      "metadata": {
        "id": "l8RsrokSmrrU"
      },
      "outputs": [
        {
          "name": "stderr",
          "output_type": "stream",
          "text": [
            "/Users/ngokoana/opt/anaconda3/lib/python3.9/site-packages/scipy/__init__.py:146: UserWarning: A NumPy version >=1.16.5 and <1.23.0 is required for this version of SciPy (detected version 1.25.2\n",
            "  warnings.warn(f\"A NumPy version >={np_minversion} and <{np_maxversion}\"\n",
            "[nltk_data] Downloading package stopwords to\n",
            "[nltk_data]     /Users/ngokoana/nltk_data...\n",
            "[nltk_data]   Package stopwords is already up-to-date!\n",
            "[nltk_data] Downloading package punkt to /Users/ngokoana/nltk_data...\n",
            "[nltk_data]   Package punkt is already up-to-date!\n"
          ]
        }
      ],
      "source": [
        "import re\n",
        "import string\n",
        "\n",
        "import numpy as np\n",
        "import pandas as pd\n",
        "import matplotlib.pyplot as plt\n",
        "import seaborn as sns\n",
        "import matplotlib.style as style\n",
        "%matplotlib inline\n",
        "\n",
        "import pandas as pd\n",
        "import numpy as np\n",
        "import nltk\n",
        "nltk.download('stopwords')\n",
        "nltk.download('punkt')\n",
        "from nlppreprocess import NLP\n",
        "import nltk\n",
        "from nltk.corpus import stopwords\n",
        "from nltk.tokenize import word_tokenize\n",
        "from nltk.stem import WordNetLemmatizer\n",
        "from nltk.stem import SnowballStemmer, WordNetLemmatizer\n",
        "\n",
        "\n",
        "# Imports for Models\n",
        "import time \n",
        "from sklearn.svm import LinearSVC, SVC\n",
        "from sklearn.naive_bayes import MultinomialNB, ComplementNB\n",
        "from sklearn.neighbors import KNeighborsClassifier\n",
        "from sklearn.model_selection import train_test_split, GridSearchCV, StratifiedKFold\n",
        "from sklearn.model_selection import KFold\n",
        "from sklearn.linear_model import LogisticRegression, SGDClassifier, RidgeClassifier\n",
        "from sklearn.model_selection import cross_val_score, GridSearchCV, RepeatedStratifiedKFold\n",
        "from sklearn.ensemble import RandomForestClassifier\n",
        "from sklearn import metrics\n",
        "from sklearn.pipeline import Pipeline\n",
        "from sklearn.feature_extraction.text import CountVectorizer , TfidfVectorizer\n",
        "\n",
        "import pandas as pd\n",
        "from sklearn.feature_extraction.text import TfidfTransformer\n",
        "from sklearn.pipeline import Pipeline\n",
        "from sklearn.metrics import accuracy_score, f1_score, precision_score, recall_score, confusion_matrix, classification_report\n",
        "from sklearn.model_selection import train_test_split\n",
        "from sklearn.svm import LinearSVC\n",
        "from sklearn.linear_model import LogisticRegression\n",
        "from sklearn.neighbors import KNeighborsClassifier\n",
        "from sklearn.naive_bayes import MultinomialNB\n"
      ]
    },
    {
      "cell_type": "markdown",
      "metadata": {
        "id": "6NUU7yot8K3i"
      },
      "source": [
        "## 3. Loading Dataset"
      ]
    },
    {
      "cell_type": "code",
      "execution_count": 2,
      "metadata": {
        "id": "lg4fftApmrrY"
      },
      "outputs": [],
      "source": [
        "train = pd.read_csv('train_set.csv', encoding='UTF-8')\n",
        "test = pd.read_csv('test_set.csv' ,encoding='UTF-8')\n"
      ]
    },
    {
      "cell_type": "markdown",
      "metadata": {},
      "source": [
        "## 3. EDA"
      ]
    },
    {
      "cell_type": "code",
      "execution_count": 4,
      "metadata": {
        "colab": {
          "base_uri": "https://localhost:8080/",
          "height": 204
        },
        "id": "tkkG9ttFmrra",
        "outputId": "f8a09dd8-25ce-4392-837e-1415f7badbff"
      },
      "outputs": [
        {
          "data": {
            "text/html": [
              "<div>\n",
              "<style scoped>\n",
              "    .dataframe tbody tr th:only-of-type {\n",
              "        vertical-align: middle;\n",
              "    }\n",
              "\n",
              "    .dataframe tbody tr th {\n",
              "        vertical-align: top;\n",
              "    }\n",
              "\n",
              "    .dataframe thead th {\n",
              "        text-align: right;\n",
              "    }\n",
              "</style>\n",
              "<table border=\"1\" class=\"dataframe\">\n",
              "  <thead>\n",
              "    <tr style=\"text-align: right;\">\n",
              "      <th></th>\n",
              "      <th>lang_id</th>\n",
              "      <th>text</th>\n",
              "    </tr>\n",
              "  </thead>\n",
              "  <tbody>\n",
              "    <tr>\n",
              "      <th>0</th>\n",
              "      <td>xho</td>\n",
              "      <td>umgaqo-siseko wenza amalungiselelo kumaziko ax...</td>\n",
              "    </tr>\n",
              "    <tr>\n",
              "      <th>1</th>\n",
              "      <td>xho</td>\n",
              "      <td>i-dha iya kuba nobulumko bokubeka umsebenzi na...</td>\n",
              "    </tr>\n",
              "    <tr>\n",
              "      <th>2</th>\n",
              "      <td>eng</td>\n",
              "      <td>the province of kwazulu-natal department of tr...</td>\n",
              "    </tr>\n",
              "    <tr>\n",
              "      <th>3</th>\n",
              "      <td>nso</td>\n",
              "      <td>o netefatša gore o ba file dilo ka moka tše le...</td>\n",
              "    </tr>\n",
              "    <tr>\n",
              "      <th>4</th>\n",
              "      <td>ven</td>\n",
              "      <td>khomishini ya ndinganyiso ya mbeu yo ewa maana...</td>\n",
              "    </tr>\n",
              "  </tbody>\n",
              "</table>\n",
              "</div>"
            ],
            "text/plain": [
              "  lang_id                                               text\n",
              "0     xho  umgaqo-siseko wenza amalungiselelo kumaziko ax...\n",
              "1     xho  i-dha iya kuba nobulumko bokubeka umsebenzi na...\n",
              "2     eng  the province of kwazulu-natal department of tr...\n",
              "3     nso  o netefatša gore o ba file dilo ka moka tše le...\n",
              "4     ven  khomishini ya ndinganyiso ya mbeu yo ewa maana..."
            ]
          },
          "execution_count": 4,
          "metadata": {},
          "output_type": "execute_result"
        }
      ],
      "source": [
        "train.head()"
      ]
    },
    {
      "cell_type": "code",
      "execution_count": 5,
      "metadata": {
        "colab": {
          "base_uri": "https://localhost:8080/"
        },
        "id": "Rhe-FeQRmrrd",
        "outputId": "6f0d6303-45de-452b-c1fb-256b36118b81"
      },
      "outputs": [
        {
          "data": {
            "text/plain": [
              "count     33000\n",
              "unique       11\n",
              "top         xho\n",
              "freq       3000\n",
              "Name: lang_id, dtype: object"
            ]
          },
          "execution_count": 5,
          "metadata": {},
          "output_type": "execute_result"
        }
      ],
      "source": [
        "train.lang_id.describe()"
      ]
    },
    {
      "cell_type": "code",
      "execution_count": 6,
      "metadata": {
        "id": "VQs7Dt5vmrre"
      },
      "outputs": [],
      "source": [
        "#Character Length\n",
        "train['length'] = train['text'].apply(lambda x: len(x))"
      ]
    },
    {
      "cell_type": "code",
      "execution_count": 7,
      "metadata": {
        "colab": {
          "base_uri": "https://localhost:8080/",
          "height": 173
        },
        "id": "fgKB_cQ2mrrf",
        "outputId": "47be5765-d991-41f3-a321-4b4ab615cc65",
        "scrolled": true
      },
      "outputs": [
        {
          "data": {
            "text/html": [
              "<div>\n",
              "<style scoped>\n",
              "    .dataframe tbody tr th:only-of-type {\n",
              "        vertical-align: middle;\n",
              "    }\n",
              "\n",
              "    .dataframe tbody tr th {\n",
              "        vertical-align: top;\n",
              "    }\n",
              "\n",
              "    .dataframe thead th {\n",
              "        text-align: right;\n",
              "    }\n",
              "</style>\n",
              "<table border=\"1\" class=\"dataframe\">\n",
              "  <thead>\n",
              "    <tr style=\"text-align: right;\">\n",
              "      <th></th>\n",
              "      <th>length</th>\n",
              "    </tr>\n",
              "  </thead>\n",
              "  <tbody>\n",
              "    <tr>\n",
              "      <th>count</th>\n",
              "      <td>33000.000000</td>\n",
              "    </tr>\n",
              "    <tr>\n",
              "      <th>mean</th>\n",
              "      <td>244.907545</td>\n",
              "    </tr>\n",
              "    <tr>\n",
              "      <th>std</th>\n",
              "      <td>28.475588</td>\n",
              "    </tr>\n",
              "    <tr>\n",
              "      <th>min</th>\n",
              "      <td>201.000000</td>\n",
              "    </tr>\n",
              "    <tr>\n",
              "      <th>25%</th>\n",
              "      <td>220.000000</td>\n",
              "    </tr>\n",
              "    <tr>\n",
              "      <th>50%</th>\n",
              "      <td>243.000000</td>\n",
              "    </tr>\n",
              "    <tr>\n",
              "      <th>75%</th>\n",
              "      <td>269.000000</td>\n",
              "    </tr>\n",
              "    <tr>\n",
              "      <th>max</th>\n",
              "      <td>299.000000</td>\n",
              "    </tr>\n",
              "  </tbody>\n",
              "</table>\n",
              "</div>"
            ],
            "text/plain": [
              "             length\n",
              "count  33000.000000\n",
              "mean     244.907545\n",
              "std       28.475588\n",
              "min      201.000000\n",
              "25%      220.000000\n",
              "50%      243.000000\n",
              "75%      269.000000\n",
              "max      299.000000"
            ]
          },
          "execution_count": 7,
          "metadata": {},
          "output_type": "execute_result"
        }
      ],
      "source": [
        "train.describe()"
      ]
    },
    {
      "cell_type": "markdown",
      "metadata": {
        "id": "SAxdzLGJ_nSX"
      },
      "source": [
        "## 4. Data pre-processing"
      ]
    },
    {
      "cell_type": "code",
      "execution_count": 17,
      "metadata": {},
      "outputs": [],
      "source": [
        "\n",
        "\n",
        "def _remove_punc(x):\n",
        "    \"\"\"\n",
        "    Remove punctuation from the text\n",
        "    \"\"\"\n",
        "    return x.translate(str.maketrans(\"\", \"\", string.punctuation))\n",
        "\n",
        "def _lower(x):\n",
        "    \"\"\"\n",
        "    Convert text to lowercase\n",
        "    \"\"\"\n",
        "    return x.lower()\n",
        "\n",
        "def stemma(x):\n",
        "    # Snowball Stemming\n",
        "    stemmer = SnowballStemmer('english')\n",
        "    words = word_tokenize(x)\n",
        "    words = [stemmer.stem(word) for word in words]\n",
        "    return ' '.join(words)\n",
        "\n",
        "def lemma(x):\n",
        "    # Lemmatize the words\n",
        "    lemmatizer = WordNetLemmatizer()\n",
        "    words = word_tokenize(x)\n",
        "    words = [lemmatizer.lemmatize(word) for word in words]\n",
        "    return ' '.join(words)\n",
        "\n",
        "def _analyzer(x):\n",
        "    \"\"\"\n",
        "    Function combines all the cleaning operations\n",
        "    \"\"\"\n",
        "    #x = _remove_punc(x)\n",
        "    x = _lower(x)\n",
        "    x = lemma(x)\n",
        "    #x = stemma(x)\n",
        "    return x\n"
      ]
    },
    {
      "cell_type": "code",
      "execution_count": 18,
      "metadata": {},
      "outputs": [],
      "source": [
        "# Apply the _analyzer function to the 'Text' column\n",
        "train['Cleaned_Text'] = train['text'].apply(_analyzer)\n",
        "test['Cleaned_Text'] = test['text'].apply(_analyzer)\n"
      ]
    },
    {
      "cell_type": "code",
      "execution_count": 19,
      "metadata": {},
      "outputs": [
        {
          "data": {
            "text/html": [
              "<div>\n",
              "<style scoped>\n",
              "    .dataframe tbody tr th:only-of-type {\n",
              "        vertical-align: middle;\n",
              "    }\n",
              "\n",
              "    .dataframe tbody tr th {\n",
              "        vertical-align: top;\n",
              "    }\n",
              "\n",
              "    .dataframe thead th {\n",
              "        text-align: right;\n",
              "    }\n",
              "</style>\n",
              "<table border=\"1\" class=\"dataframe\">\n",
              "  <thead>\n",
              "    <tr style=\"text-align: right;\">\n",
              "      <th></th>\n",
              "      <th>lang_id</th>\n",
              "      <th>text</th>\n",
              "      <th>Cleaned_Text</th>\n",
              "    </tr>\n",
              "  </thead>\n",
              "  <tbody>\n",
              "    <tr>\n",
              "      <th>0</th>\n",
              "      <td>xho</td>\n",
              "      <td>umgaqo-siseko wenza amalungiselelo kumaziko ax...</td>\n",
              "      <td>umgaqo-siseko wenza amalungiselelo kumaziko ax...</td>\n",
              "    </tr>\n",
              "    <tr>\n",
              "      <th>1</th>\n",
              "      <td>xho</td>\n",
              "      <td>i-dha iya kuba nobulumko bokubeka umsebenzi na...</td>\n",
              "      <td>i-dha iya kuba nobulumko bokubeka umsebenzi na...</td>\n",
              "    </tr>\n",
              "    <tr>\n",
              "      <th>2</th>\n",
              "      <td>eng</td>\n",
              "      <td>the province of kwazulu-natal department of tr...</td>\n",
              "      <td>the province of kwazulu-natal department of tr...</td>\n",
              "    </tr>\n",
              "    <tr>\n",
              "      <th>3</th>\n",
              "      <td>nso</td>\n",
              "      <td>o netefatša gore o ba file dilo ka moka tše le...</td>\n",
              "      <td>o netefatša gore o ba file dilo ka moka tše le...</td>\n",
              "    </tr>\n",
              "    <tr>\n",
              "      <th>4</th>\n",
              "      <td>ven</td>\n",
              "      <td>khomishini ya ndinganyiso ya mbeu yo ewa maana...</td>\n",
              "      <td>khomishini ya ndinganyiso ya mbeu yo ewa maana...</td>\n",
              "    </tr>\n",
              "    <tr>\n",
              "      <th>5</th>\n",
              "      <td>nso</td>\n",
              "      <td>dinyakišišo tše tša go dirwa gabedi ka ngwaga ...</td>\n",
              "      <td>dinyakišišo tše tša go dirwa gabedi ka ngwaga ...</td>\n",
              "    </tr>\n",
              "    <tr>\n",
              "      <th>6</th>\n",
              "      <td>tsn</td>\n",
              "      <td>kgetse nngwe le nngwe e e sa faposiwang mo tsh...</td>\n",
              "      <td>kgetse nngwe le nngwe e e sa faposiwang mo tsh...</td>\n",
              "    </tr>\n",
              "    <tr>\n",
              "      <th>7</th>\n",
              "      <td>ven</td>\n",
              "      <td>mbadelo dze dza laelwa dzi do kwama mahatulele...</td>\n",
              "      <td>mbadelo dze dza laelwa dzi do kwama mahatulele...</td>\n",
              "    </tr>\n",
              "    <tr>\n",
              "      <th>8</th>\n",
              "      <td>nso</td>\n",
              "      <td>maloko a dikhuduthamaga a ikarabela mongwe le ...</td>\n",
              "      <td>maloko a dikhuduthamaga a ikarabela mongwe le ...</td>\n",
              "    </tr>\n",
              "    <tr>\n",
              "      <th>9</th>\n",
              "      <td>tsn</td>\n",
              "      <td>fa le dirisiwa lebone le tshwanetse go bontsha...</td>\n",
              "      <td>fa le dirisiwa lebone le tshwanetse go bontsha...</td>\n",
              "    </tr>\n",
              "  </tbody>\n",
              "</table>\n",
              "</div>"
            ],
            "text/plain": [
              "  lang_id                                               text  \\\n",
              "0     xho  umgaqo-siseko wenza amalungiselelo kumaziko ax...   \n",
              "1     xho  i-dha iya kuba nobulumko bokubeka umsebenzi na...   \n",
              "2     eng  the province of kwazulu-natal department of tr...   \n",
              "3     nso  o netefatša gore o ba file dilo ka moka tše le...   \n",
              "4     ven  khomishini ya ndinganyiso ya mbeu yo ewa maana...   \n",
              "5     nso  dinyakišišo tše tša go dirwa gabedi ka ngwaga ...   \n",
              "6     tsn  kgetse nngwe le nngwe e e sa faposiwang mo tsh...   \n",
              "7     ven  mbadelo dze dza laelwa dzi do kwama mahatulele...   \n",
              "8     nso  maloko a dikhuduthamaga a ikarabela mongwe le ...   \n",
              "9     tsn  fa le dirisiwa lebone le tshwanetse go bontsha...   \n",
              "\n",
              "                                        Cleaned_Text  \n",
              "0  umgaqo-siseko wenza amalungiselelo kumaziko ax...  \n",
              "1  i-dha iya kuba nobulumko bokubeka umsebenzi na...  \n",
              "2  the province of kwazulu-natal department of tr...  \n",
              "3  o netefatša gore o ba file dilo ka moka tše le...  \n",
              "4  khomishini ya ndinganyiso ya mbeu yo ewa maana...  \n",
              "5  dinyakišišo tše tša go dirwa gabedi ka ngwaga ...  \n",
              "6  kgetse nngwe le nngwe e e sa faposiwang mo tsh...  \n",
              "7  mbadelo dze dza laelwa dzi do kwama mahatulele...  \n",
              "8  maloko a dikhuduthamaga a ikarabela mongwe le ...  \n",
              "9  fa le dirisiwa lebone le tshwanetse go bontsha...  "
            ]
          },
          "execution_count": 19,
          "metadata": {},
          "output_type": "execute_result"
        }
      ],
      "source": [
        "train.head(10)"
      ]
    },
    {
      "cell_type": "markdown",
      "metadata": {
        "id": "l6EO3hLUQGu9"
      },
      "source": [
        "## 4. Modelling"
      ]
    },
    {
      "cell_type": "markdown",
      "metadata": {},
      "source": [
        "#### Train Test Split"
      ]
    },
    {
      "cell_type": "code",
      "execution_count": 20,
      "metadata": {
        "id": "gwkcRlvZPlZo"
      },
      "outputs": [],
      "source": [
        "# Splitting  X (indepedent) and Y (target/dependent) variables\n",
        "from sklearn.model_selection import train_test_split\n",
        "X = train['text']\n",
        "y = train['lang_id']\n",
        "testX= test['text']\n",
        "\n",
        "#train_test_split on data for modelling\n",
        "X_train, X_test, y_train, y_test = train_test_split(X, y, test_size=0.2, shuffle=True, stratify=y, random_state=42)"
      ]
    },
    {
      "cell_type": "markdown",
      "metadata": {},
      "source": [
        "#### Testing different classifiers "
      ]
    },
    {
      "cell_type": "code",
      "execution_count": 21,
      "metadata": {},
      "outputs": [],
      "source": [
        "# Define classifiers and their names\n",
        "classifiers = [\n",
        "    LinearSVC(),\n",
        "    LogisticRegression(n_jobs=-1),\n",
        "    KNeighborsClassifier(),\n",
        "    MultinomialNB(),\n",
        "    RidgeClassifier(random_state=42)\n",
        "]\n",
        "\n",
        "names = [\n",
        "    'LinearSVC',\n",
        "    'LogisticRegression',\n",
        "    'KNeighborsClassifier',\n",
        "    'MultinomialNB',\n",
        "    'RidgeClassifier'\n",
        "]"
      ]
    },
    {
      "cell_type": "code",
      "execution_count": 22,
      "metadata": {},
      "outputs": [
        {
          "name": "stdout",
          "output_type": "stream",
          "text": [
            "Fitting LinearSVC model...\n",
            "... predicting\n",
            "... scoring\n"
          ]
        },
        {
          "name": "stderr",
          "output_type": "stream",
          "text": [
            "/var/folders/37/wxgq9lms04lb43v25t68xmcw0000gn/T/ipykernel_26599/3842155183.py:40: FutureWarning: The frame.append method is deprecated and will be removed from pandas in a future version. Use pandas.concat instead.\n",
            "  results_df = results_df.append({\n"
          ]
        },
        {
          "name": "stdout",
          "output_type": "stream",
          "text": [
            "Fitting LogisticRegression model...\n"
          ]
        },
        {
          "name": "stderr",
          "output_type": "stream",
          "text": [
            "/Users/ngokoana/opt/anaconda3/lib/python3.9/site-packages/scipy/__init__.py:146: UserWarning: A NumPy version >=1.16.5 and <1.23.0 is required for this version of SciPy (detected version 1.25.2\n",
            "  warnings.warn(f\"A NumPy version >={np_minversion} and <{np_maxversion}\"\n",
            "/Users/ngokoana/opt/anaconda3/lib/python3.9/site-packages/sklearn/linear_model/_logistic.py:814: ConvergenceWarning: lbfgs failed to converge (status=1):\n",
            "STOP: TOTAL NO. of ITERATIONS REACHED LIMIT.\n",
            "\n",
            "Increase the number of iterations (max_iter) or scale the data as shown in:\n",
            "    https://scikit-learn.org/stable/modules/preprocessing.html\n",
            "Please also refer to the documentation for alternative solver options:\n",
            "    https://scikit-learn.org/stable/modules/linear_model.html#logistic-regression\n",
            "  n_iter_i = _check_optimize_result(\n"
          ]
        },
        {
          "name": "stdout",
          "output_type": "stream",
          "text": [
            "... predicting\n",
            "... scoring\n"
          ]
        },
        {
          "name": "stderr",
          "output_type": "stream",
          "text": [
            "/var/folders/37/wxgq9lms04lb43v25t68xmcw0000gn/T/ipykernel_26599/3842155183.py:40: FutureWarning: The frame.append method is deprecated and will be removed from pandas in a future version. Use pandas.concat instead.\n",
            "  results_df = results_df.append({\n"
          ]
        },
        {
          "name": "stdout",
          "output_type": "stream",
          "text": [
            "Fitting KNeighborsClassifier model...\n",
            "... predicting\n",
            "... scoring\n"
          ]
        },
        {
          "name": "stderr",
          "output_type": "stream",
          "text": [
            "/var/folders/37/wxgq9lms04lb43v25t68xmcw0000gn/T/ipykernel_26599/3842155183.py:40: FutureWarning: The frame.append method is deprecated and will be removed from pandas in a future version. Use pandas.concat instead.\n",
            "  results_df = results_df.append({\n"
          ]
        },
        {
          "name": "stdout",
          "output_type": "stream",
          "text": [
            "Fitting MultinomialNB model...\n",
            "... predicting\n",
            "... scoring\n"
          ]
        },
        {
          "name": "stderr",
          "output_type": "stream",
          "text": [
            "/var/folders/37/wxgq9lms04lb43v25t68xmcw0000gn/T/ipykernel_26599/3842155183.py:40: FutureWarning: The frame.append method is deprecated and will be removed from pandas in a future version. Use pandas.concat instead.\n",
            "  results_df = results_df.append({\n"
          ]
        },
        {
          "name": "stdout",
          "output_type": "stream",
          "text": [
            "Fitting RidgeClassifier model...\n",
            "... predicting\n",
            "... scoring\n",
            "... All done!\n"
          ]
        },
        {
          "name": "stderr",
          "output_type": "stream",
          "text": [
            "/var/folders/37/wxgq9lms04lb43v25t68xmcw0000gn/T/ipykernel_26599/3842155183.py:40: FutureWarning: The frame.append method is deprecated and will be removed from pandas in a future version. Use pandas.concat instead.\n",
            "  results_df = results_df.append({\n"
          ]
        }
      ],
      "source": [
        "\n",
        "# Create empty DataFrames to store results\n",
        "results_df = pd.DataFrame(columns=['Classifier', 'Accuracy', 'Precision', 'Recall', 'F1_Train', 'F1_Test', 'Training Time'])\n",
        "\n",
        "# A for loop that trains different models and automatically scores their predictions for the final model selection.\n",
        "for name, clf in zip(names, classifiers):\n",
        "    print('Fitting {:s} model...'.format(name))\n",
        "\n",
        "     # Pipeline iterating through all assigned models:\n",
        "    pipeline = Pipeline([\n",
        "        ('tfidf', TfidfVectorizer()),  # Strings to tokens and then counts tokens on matrix.\n",
        "        ('classifier', clf),\n",
        "    ])\n",
        "\n",
        "\n",
        "\n",
        "      # Capture the start time\n",
        "    start_time = time.time()\n",
        "\n",
        "    # Fit the pipeline\n",
        "    pipeline.fit(X_train, y_train)\n",
        "\n",
        "    # Capture the end time\n",
        "    end_time = time.time()\n",
        "\n",
        "    # Calculate the training time\n",
        "    training_time = end_time - start_time\n",
        "\n",
        "    print('... predicting')\n",
        "    y_pred = pipeline.predict(X_train)\n",
        "    y_pred_test = pipeline.predict(X_test)\n",
        "\n",
        "    print('... scoring')\n",
        "    f1_train = f1_score(y_train, y_pred, average='macro')\n",
        "    f1_test = f1_score(y_test, y_pred_test, average='macro')\n",
        "    accuracy = accuracy_score(y_train, y_pred)\n",
        "    precision = precision_score(y_train, y_pred, average='macro')\n",
        "    recall = recall_score(y_train, y_pred, average='macro')\n",
        "\n",
        "    # Save results\n",
        "    results_df = results_df.append({\n",
        "        'Classifier': name,\n",
        "        'Accuracy': accuracy,\n",
        "        'Precision': precision,\n",
        "        'Recall': recall,\n",
        "        'F1_Train': f1_train,\n",
        "        'F1_Test': f1_test,\n",
        "        'Training Time': training_time\n",
        "    }, ignore_index=True)\n",
        "\n",
        "# Display the results table\n",
        "#print(results_df)\n",
        "print('... All done!')"
      ]
    },
    {
      "cell_type": "code",
      "execution_count": 23,
      "metadata": {},
      "outputs": [
        {
          "data": {
            "text/html": [
              "<div>\n",
              "<style scoped>\n",
              "    .dataframe tbody tr th:only-of-type {\n",
              "        vertical-align: middle;\n",
              "    }\n",
              "\n",
              "    .dataframe tbody tr th {\n",
              "        vertical-align: top;\n",
              "    }\n",
              "\n",
              "    .dataframe thead th {\n",
              "        text-align: right;\n",
              "    }\n",
              "</style>\n",
              "<table border=\"1\" class=\"dataframe\">\n",
              "  <thead>\n",
              "    <tr style=\"text-align: right;\">\n",
              "      <th></th>\n",
              "      <th>Classifier</th>\n",
              "      <th>Accuracy</th>\n",
              "      <th>Precision</th>\n",
              "      <th>Recall</th>\n",
              "      <th>F1_Train</th>\n",
              "      <th>F1_Test</th>\n",
              "      <th>Training Time</th>\n",
              "    </tr>\n",
              "  </thead>\n",
              "  <tbody>\n",
              "    <tr>\n",
              "      <th>0</th>\n",
              "      <td>LinearSVC</td>\n",
              "      <td>1.0</td>\n",
              "      <td>1.0</td>\n",
              "      <td>1.0</td>\n",
              "      <td>1.0</td>\n",
              "      <td>0.996744</td>\n",
              "      <td>1.586721</td>\n",
              "    </tr>\n",
              "    <tr>\n",
              "      <th>4</th>\n",
              "      <td>RidgeClassifier</td>\n",
              "      <td>1.0</td>\n",
              "      <td>1.0</td>\n",
              "      <td>1.0</td>\n",
              "      <td>1.0</td>\n",
              "      <td>0.997198</td>\n",
              "      <td>2.871174</td>\n",
              "    </tr>\n",
              "    <tr>\n",
              "      <th>3</th>\n",
              "      <td>MultinomialNB</td>\n",
              "      <td>0.999798</td>\n",
              "      <td>0.999798</td>\n",
              "      <td>0.999798</td>\n",
              "      <td>0.999798</td>\n",
              "      <td>0.998712</td>\n",
              "      <td>1.141087</td>\n",
              "    </tr>\n",
              "    <tr>\n",
              "      <th>1</th>\n",
              "      <td>LogisticRegression</td>\n",
              "      <td>0.999444</td>\n",
              "      <td>0.999445</td>\n",
              "      <td>0.999444</td>\n",
              "      <td>0.999445</td>\n",
              "      <td>0.994924</td>\n",
              "      <td>20.852059</td>\n",
              "    </tr>\n",
              "    <tr>\n",
              "      <th>2</th>\n",
              "      <td>KNeighborsClassifier</td>\n",
              "      <td>0.976566</td>\n",
              "      <td>0.976669</td>\n",
              "      <td>0.976566</td>\n",
              "      <td>0.976434</td>\n",
              "      <td>0.964008</td>\n",
              "      <td>0.995681</td>\n",
              "    </tr>\n",
              "  </tbody>\n",
              "</table>\n",
              "</div>"
            ],
            "text/plain": [
              "             Classifier  Accuracy Precision    Recall  F1_Train   F1_Test  \\\n",
              "0             LinearSVC       1.0       1.0       1.0       1.0  0.996744   \n",
              "4       RidgeClassifier       1.0       1.0       1.0       1.0  0.997198   \n",
              "3         MultinomialNB  0.999798  0.999798  0.999798  0.999798  0.998712   \n",
              "1    LogisticRegression  0.999444  0.999445  0.999444  0.999445  0.994924   \n",
              "2  KNeighborsClassifier  0.976566  0.976669  0.976566  0.976434  0.964008   \n",
              "\n",
              "  Training Time  \n",
              "0      1.586721  \n",
              "4      2.871174  \n",
              "3      1.141087  \n",
              "1     20.852059  \n",
              "2      0.995681  "
            ]
          },
          "execution_count": 23,
          "metadata": {},
          "output_type": "execute_result"
        }
      ],
      "source": [
        "results_df.sort_values('F1_Train', ascending=False)"
      ]
    },
    {
      "cell_type": "code",
      "execution_count": 11,
      "metadata": {},
      "outputs": [
        {
          "data": {
            "text/plain": [
              "<AxesSubplot:title={'center':'Performance vs. Training time'}>"
            ]
          },
          "execution_count": 11,
          "metadata": {},
          "output_type": "execute_result"
        },
        {
          "data": {
            "image/png": "[encoded data removed]",
            "text/plain": [
              "<Figure size 720x360 with 2 Axes>"
            ]
          },
          "metadata": {
            "needs_background": "light"
          },
          "output_type": "display_data"
        }
      ],
      "source": [
        "fig, ax = plt.subplots(1, 2, figsize=(10, 5))\n",
        "plt.title('Performance vs. Training time',fontweight =\"bold\")\n",
        "results_df.sort_values('F1_Test', ascending=False, inplace=True)\n",
        "results_df.plot(y=['F1_Test'], kind='bar', ax=ax[0], xlim=[0,1.1], ylim=[0.5,1])\n",
        "results_df.plot(y='Training Time', kind='bar', ax=ax[1])"
      ]
    },
    {
      "cell_type": "code",
      "execution_count": 12,
      "metadata": {},
      "outputs": [
        {
          "name": "stdout",
          "output_type": "stream",
          "text": [
            "Classification Report:\n",
            "               precision    recall  f1-score   support\n",
            "\n",
            "         afr       1.00      1.00      1.00      1800\n",
            "         eng       1.00      1.00      1.00      1800\n",
            "         nbl       1.00      1.00      1.00      1800\n",
            "         nso       1.00      1.00      1.00      1800\n",
            "         sot       1.00      1.00      1.00      1800\n",
            "         ssw       1.00      1.00      1.00      1800\n",
            "         tsn       1.00      1.00      1.00      1800\n",
            "         tso       1.00      1.00      1.00      1800\n",
            "         ven       1.00      1.00      1.00      1800\n",
            "         xho       1.00      1.00      1.00      1800\n",
            "         zul       1.00      1.00      1.00      1800\n",
            "\n",
            "    accuracy                           1.00     19800\n",
            "   macro avg       1.00      1.00      1.00     19800\n",
            "weighted avg       1.00      1.00      1.00     19800\n",
            "\n"
          ]
        }
      ],
      "source": [
        "print('Classification Report:\\n', classification_report(y_train, y_pred))"
      ]
    },
    {
      "cell_type": "markdown",
      "metadata": {
        "id": "7hM3KN2yMjj3"
      },
      "source": [
        "### Fitting to test data"
      ]
    },
    {
      "cell_type": "code",
      "execution_count": 13,
      "metadata": {
        "id": "0B6ouwR4MgMR"
      },
      "outputs": [
        {
          "data": {
            "text/plain": [
              "Pipeline(steps=[('tfidf', TfidfVectorizer()), ('classifier', MultinomialNB())])"
            ]
          },
          "execution_count": 13,
          "metadata": {},
          "output_type": "execute_result"
        }
      ],
      "source": [
        " # Pipeline iterating through all assigned models:\n",
        "best_pipe = Pipeline([\n",
        "        ('tfidf', TfidfVectorizer()),  # Strings to tokens and then counts tokens on matrix.\n",
        "        ('classifier', MultinomialNB()),\n",
        "    ])\n",
        "\n",
        "best_pipe.fit(X,y)"
      ]
    },
    {
      "cell_type": "code",
      "execution_count": 14,
      "metadata": {
        "colab": {
          "background_save": true
        },
        "id": "TbFRLGmLNuA-"
      },
      "outputs": [
        {
          "data": {
            "text/plain": [
              "array(['tsn', 'nbl', 'ven', ..., 'sot', 'sot', 'tso'], dtype='<U3')"
            ]
          },
          "execution_count": 14,
          "metadata": {},
          "output_type": "execute_result"
        }
      ],
      "source": [
        "y_pred = best_pipe.predict(testX)\n",
        "y_pred"
      ]
    },
    {
      "cell_type": "code",
      "execution_count": 15,
      "metadata": {},
      "outputs": [
        {
          "data": {
            "text/html": [
              "<div>\n",
              "<style scoped>\n",
              "    .dataframe tbody tr th:only-of-type {\n",
              "        vertical-align: middle;\n",
              "    }\n",
              "\n",
              "    .dataframe tbody tr th {\n",
              "        vertical-align: top;\n",
              "    }\n",
              "\n",
              "    .dataframe thead th {\n",
              "        text-align: right;\n",
              "    }\n",
              "</style>\n",
              "<table border=\"1\" class=\"dataframe\">\n",
              "  <thead>\n",
              "    <tr style=\"text-align: right;\">\n",
              "      <th></th>\n",
              "      <th>index</th>\n",
              "      <th>lang_id</th>\n",
              "    </tr>\n",
              "  </thead>\n",
              "  <tbody>\n",
              "    <tr>\n",
              "      <th>0</th>\n",
              "      <td>1</td>\n",
              "      <td>tsn</td>\n",
              "    </tr>\n",
              "    <tr>\n",
              "      <th>1</th>\n",
              "      <td>2</td>\n",
              "      <td>nbl</td>\n",
              "    </tr>\n",
              "    <tr>\n",
              "      <th>2</th>\n",
              "      <td>3</td>\n",
              "      <td>ven</td>\n",
              "    </tr>\n",
              "    <tr>\n",
              "      <th>3</th>\n",
              "      <td>4</td>\n",
              "      <td>ssw</td>\n",
              "    </tr>\n",
              "    <tr>\n",
              "      <th>4</th>\n",
              "      <td>5</td>\n",
              "      <td>afr</td>\n",
              "    </tr>\n",
              "    <tr>\n",
              "      <th>...</th>\n",
              "      <td>...</td>\n",
              "      <td>...</td>\n",
              "    </tr>\n",
              "    <tr>\n",
              "      <th>5677</th>\n",
              "      <td>5678</td>\n",
              "      <td>eng</td>\n",
              "    </tr>\n",
              "    <tr>\n",
              "      <th>5678</th>\n",
              "      <td>5679</td>\n",
              "      <td>nso</td>\n",
              "    </tr>\n",
              "    <tr>\n",
              "      <th>5679</th>\n",
              "      <td>5680</td>\n",
              "      <td>sot</td>\n",
              "    </tr>\n",
              "    <tr>\n",
              "      <th>5680</th>\n",
              "      <td>5681</td>\n",
              "      <td>sot</td>\n",
              "    </tr>\n",
              "    <tr>\n",
              "      <th>5681</th>\n",
              "      <td>5682</td>\n",
              "      <td>tso</td>\n",
              "    </tr>\n",
              "  </tbody>\n",
              "</table>\n",
              "<p>5682 rows × 2 columns</p>\n",
              "</div>"
            ],
            "text/plain": [
              "      index lang_id\n",
              "0         1     tsn\n",
              "1         2     nbl\n",
              "2         3     ven\n",
              "3         4     ssw\n",
              "4         5     afr\n",
              "...     ...     ...\n",
              "5677   5678     eng\n",
              "5678   5679     nso\n",
              "5679   5680     sot\n",
              "5680   5681     sot\n",
              "5681   5682     tso\n",
              "\n",
              "[5682 rows x 2 columns]"
            ]
          },
          "execution_count": 15,
          "metadata": {},
          "output_type": "execute_result"
        }
      ],
      "source": [
        "test['lang_id'] = y_pred.tolist()\n",
        "\n",
        "#subset columns for output format\n",
        "df_final_sub = test[['index', 'lang_id']]\n",
        "df_final_sub\n"
      ]
    },
    {
      "cell_type": "code",
      "execution_count": 16,
      "metadata": {},
      "outputs": [],
      "source": [
        "df_final_sub.to_csv('NK_pred.csv', index=False)"
      ]
    }
  ],
  "metadata": {
    "accelerator": "TPU",
    "colab": {
      "collapsed_sections": [],
      "name": "hackathon-challenge.ipynb",
      "provenance": []
    },
    "kernelspec": {
      "display_name": "Python 3",
      "language": "python",
      "name": "python3"
    },
    "language_info": {
      "codemirror_mode": {
        "name": "ipython",
        "version": 3
      },
      "file_extension": ".py",
      "mimetype": "text/x-python",
      "name": "python",
      "nbconvert_exporter": "python",
      "pygments_lexer": "ipython3",
      "version": "3.9.12"
    }
  },
  "nbformat": 4,
  "nbformat_minor": 0
}
